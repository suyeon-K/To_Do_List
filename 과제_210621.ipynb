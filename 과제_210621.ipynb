{
 "cells": [
  {
   "cell_type": "markdown",
   "metadata": {},
   "source": [
    "### 과제: 함수 안에 함수!"
   ]
  },
  {
   "cell_type": "code",
   "execution_count": 13,
   "metadata": {},
   "outputs": [],
   "source": [
    "# to do list"
   ]
  },
  {
   "cell_type": "code",
   "execution_count": 39,
   "metadata": {},
   "outputs": [],
   "source": [
    "class To_do:\n",
    "    \n",
    "    def __init__(self, name):\n",
    "        self.to_do = {\"0000-00-00\":[]}\n",
    "        self.name = name\n",
    "        self.date = \"\"\n",
    "        \n",
    "    \n",
    "    def get_date(self):\n",
    "    \n",
    "        while(True):\n",
    "            self.date = input(\"원하시는 날짜를 입력해주세요 (입력예시: 2021-01-01): \")\n",
    "            if self.date[4] == '-' and self.date[-3] == '-':\n",
    "                break\n",
    "            else:\n",
    "                print(\"입력 형식이 잘못 되었습니다.\")\n",
    "\n",
    "        return date\n",
    "\n",
    "    def show_option(self):\n",
    "        print(\"=\"*62)\n",
    "        print(\"1) 할 일 등록하기\")\n",
    "        print(\"2) 할 일 삭제하기\")\n",
    "        print(\"3) 할 일 목록보기\")\n",
    "        print(\"4) 그만하기\")\n",
    "        print(\"=\"*62)\n",
    "        \n",
    "    def write_list(self, date):\n",
    "\n",
    "        if date not in self.to_do.keys():\n",
    "            self.to_do[date] = []\n",
    "\n",
    "        work = input(\"할 일을 적어주세요 : \")\n",
    "        self.to_do[date].append(work)\n",
    "\n",
    "        \n",
    "    def erase_list(self,date):\n",
    "\n",
    "        if date not in to_do.keys():\n",
    "            print(\"등록된 할 일이 없습니다!\")\n",
    "            return\n",
    "\n",
    "        if len(self.to_do[date]) == 0:\n",
    "            print(\"등록된 할 일이 없습니다!\")\n",
    "            return\n",
    "\n",
    "        num = int(input(\"몇 번째 할 일을 지우시겠습니까? :\"))\n",
    "\n",
    "        self.to_do[date].pop(num-1)\n",
    "        \n",
    "    def show_list(date):\n",
    "    \n",
    "        print(\"-\"*60)\n",
    "        print(\"날짜 : {}\".format(date))\n",
    "\n",
    "        if date not in self.to_do.keys():\n",
    "            print(\"등록된 할 일이 없습니다!\")\n",
    "            return\n",
    "\n",
    "        lst = self.to_do[date]\n",
    "\n",
    "        if len(lst) == 0:\n",
    "            print(\"등록된 할 일이 없습니다!\")\n",
    "        else:\n",
    "            for num, work in enumerate(lst):\n",
    "                print(\"{} - {}\".format(num+1,work))\n",
    "                \n",
    "    def to_do_list(self):\n",
    "\n",
    "        print(\"★ {}'s To Do List ★\".format(self.name))\n",
    "\n",
    "        self.date = get_date() # 날짜 입력하기\n",
    "\n",
    "        show_option() # 옵션 보기\n",
    "\n",
    "\n",
    "        while True:\n",
    "\n",
    "            option = int(input(\"무엇을 하시겠습니까? :\"))\n",
    "\n",
    "            if option == 1 :\n",
    "                write_list(self.date) # 할 일 쓰기\n",
    "            elif option == 2 :\n",
    "                erase_list(self.date) # 할 일 지우기\n",
    "            elif option == 3:\n",
    "                show_list(self.date) # 목록 보기\n",
    "            elif option == 4:\n",
    "                print(\"Bye Bye\")\n",
    "                break\n",
    "            else:\n",
    "                print(\"다시 골라주세요:(\")\n",
    "\n",
    "            print(\"=\"*62)"
   ]
  },
  {
   "cell_type": "code",
   "execution_count": 40,
   "metadata": {},
   "outputs": [],
   "source": [
    "to_do = To_do(\"suyeon\")"
   ]
  },
  {
   "cell_type": "code",
   "execution_count": 41,
   "metadata": {},
   "outputs": [
    {
     "name": "stdout",
     "output_type": "stream",
     "text": [
      "★ suyeon's To Do List ★\n"
     ]
    },
    {
     "name": "stdin",
     "output_type": "stream",
     "text": [
      "원하시는 날짜를 입력해주세요 (입력예시: 2021-01-01):  2021-06-23\n"
     ]
    },
    {
     "name": "stdout",
     "output_type": "stream",
     "text": [
      "==============================================================\n",
      "1) 할 일 등록하기\n",
      "2) 할 일 삭제하기\n",
      "3) 할 일 목록보기\n",
      "4) 그만하기\n",
      "==============================================================\n"
     ]
    },
    {
     "name": "stdin",
     "output_type": "stream",
     "text": [
      "무엇을 하시겠습니까? : 1\n"
     ]
    },
    {
     "ename": "AttributeError",
     "evalue": "'To_do' object has no attribute 'keys'",
     "output_type": "error",
     "traceback": [
      "\u001b[1;31m---------------------------------------------------------------------------\u001b[0m",
      "\u001b[1;31mAttributeError\u001b[0m                            Traceback (most recent call last)",
      "\u001b[1;32m<ipython-input-41-e0a6d8aa4a11>\u001b[0m in \u001b[0;36m<module>\u001b[1;34m\u001b[0m\n\u001b[1;32m----> 1\u001b[1;33m \u001b[0mto_do\u001b[0m\u001b[1;33m.\u001b[0m\u001b[0mto_do_list\u001b[0m\u001b[1;33m(\u001b[0m\u001b[1;33m)\u001b[0m\u001b[1;33m\u001b[0m\u001b[1;33m\u001b[0m\u001b[0m\n\u001b[0m",
      "\u001b[1;32m<ipython-input-39-bfeb4db54d23>\u001b[0m in \u001b[0;36mto_do_list\u001b[1;34m(self)\u001b[0m\n\u001b[0;32m     80\u001b[0m \u001b[1;33m\u001b[0m\u001b[0m\n\u001b[0;32m     81\u001b[0m             \u001b[1;32mif\u001b[0m \u001b[0moption\u001b[0m \u001b[1;33m==\u001b[0m \u001b[1;36m1\u001b[0m \u001b[1;33m:\u001b[0m\u001b[1;33m\u001b[0m\u001b[1;33m\u001b[0m\u001b[0m\n\u001b[1;32m---> 82\u001b[1;33m                 \u001b[0mwrite_list\u001b[0m\u001b[1;33m(\u001b[0m\u001b[0mself\u001b[0m\u001b[1;33m.\u001b[0m\u001b[0mdate\u001b[0m\u001b[1;33m)\u001b[0m \u001b[1;31m# 할 일 쓰기\u001b[0m\u001b[1;33m\u001b[0m\u001b[1;33m\u001b[0m\u001b[0m\n\u001b[0m\u001b[0;32m     83\u001b[0m             \u001b[1;32melif\u001b[0m \u001b[0moption\u001b[0m \u001b[1;33m==\u001b[0m \u001b[1;36m2\u001b[0m \u001b[1;33m:\u001b[0m\u001b[1;33m\u001b[0m\u001b[1;33m\u001b[0m\u001b[0m\n\u001b[0;32m     84\u001b[0m                 \u001b[0merase_list\u001b[0m\u001b[1;33m(\u001b[0m\u001b[0mself\u001b[0m\u001b[1;33m.\u001b[0m\u001b[0mdate\u001b[0m\u001b[1;33m)\u001b[0m \u001b[1;31m# 할 일 지우기\u001b[0m\u001b[1;33m\u001b[0m\u001b[1;33m\u001b[0m\u001b[0m\n",
      "\u001b[1;32m<ipython-input-18-93444ca9ee1a>\u001b[0m in \u001b[0;36mwrite_list\u001b[1;34m(date)\u001b[0m\n\u001b[0;32m      1\u001b[0m \u001b[1;32mdef\u001b[0m \u001b[0mwrite_list\u001b[0m\u001b[1;33m(\u001b[0m\u001b[0mdate\u001b[0m\u001b[1;33m)\u001b[0m\u001b[1;33m:\u001b[0m\u001b[1;33m\u001b[0m\u001b[1;33m\u001b[0m\u001b[0m\n\u001b[0;32m      2\u001b[0m \u001b[1;33m\u001b[0m\u001b[0m\n\u001b[1;32m----> 3\u001b[1;33m     \u001b[1;32mif\u001b[0m \u001b[0mdate\u001b[0m \u001b[1;32mnot\u001b[0m \u001b[1;32min\u001b[0m \u001b[0mto_do\u001b[0m\u001b[1;33m.\u001b[0m\u001b[0mkeys\u001b[0m\u001b[1;33m(\u001b[0m\u001b[1;33m)\u001b[0m\u001b[1;33m:\u001b[0m\u001b[1;33m\u001b[0m\u001b[1;33m\u001b[0m\u001b[0m\n\u001b[0m\u001b[0;32m      4\u001b[0m         \u001b[0mto_do\u001b[0m\u001b[1;33m[\u001b[0m\u001b[0mdate\u001b[0m\u001b[1;33m]\u001b[0m \u001b[1;33m=\u001b[0m \u001b[1;33m[\u001b[0m\u001b[1;33m]\u001b[0m\u001b[1;33m\u001b[0m\u001b[1;33m\u001b[0m\u001b[0m\n\u001b[0;32m      5\u001b[0m \u001b[1;33m\u001b[0m\u001b[0m\n",
      "\u001b[1;31mAttributeError\u001b[0m: 'To_do' object has no attribute 'keys'"
     ]
    }
   ],
   "source": [
    "to_do.to_do_list()"
   ]
  },
  {
   "cell_type": "code",
   "execution_count": null,
   "metadata": {},
   "outputs": [],
   "source": []
  }
 ],
 "metadata": {
  "kernelspec": {
   "display_name": "Python 3",
   "language": "python",
   "name": "python3"
  },
  "language_info": {
   "codemirror_mode": {
    "name": "ipython",
    "version": 3
   },
   "file_extension": ".py",
   "mimetype": "text/x-python",
   "name": "python",
   "nbconvert_exporter": "python",
   "pygments_lexer": "ipython3",
   "version": "3.8.8"
  }
 },
 "nbformat": 4,
 "nbformat_minor": 4
}
