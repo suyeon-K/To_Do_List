{
 "cells": [
  {
   "cell_type": "markdown",
   "metadata": {},
   "source": [
    "### 과제: 함수 안에 함수!"
   ]
  },
  {
   "cell_type": "code",
   "execution_count": 13,
   "metadata": {},
   "outputs": [],
   "source": [
    "# to do list"
   ]
  },
  {
   "cell_type": "code",
   "execution_count": 22,
   "metadata": {},
   "outputs": [],
   "source": [
    "class To_do:\n",
    "    \n",
    "    def __init__(self, name):\n",
    "        self.to_do = {\"0000-00-00\":[]}\n",
    "        self.name = name\n",
    "        self.date = \"\"\n",
    "        self.lst = []\n",
    "    \n",
    "    def write(self):\n",
    "        work = input(\"할 일을 적어주세요 : \")\n",
    "        self.lst.append(work)\n",
    "        \n",
    "    def erase(self):\n",
    "        \n",
    "        if len(self.lst) == 0:\n",
    "            print(\"등록된 할 일이 없습니다!\")\n",
    "            return\n",
    "        \n",
    "        num = int(input(\"몇 번째 할 일을 지우시겠습니까? :\"))\n",
    "\n",
    "        self.lst.pop(num-1)\n",
    "    \n",
    "    def show_list(self):\n",
    "        \n",
    "        print(\"-\"*60)\n",
    "        print(\"날짜 : {}\".format(self.date))\n",
    "        \n",
    "        if len(self.lst) == 0:\n",
    "            print(\"등록된 할 일이 없습니다!\")\n",
    "        else:\n",
    "            for num, work in enumerate(self.lst):\n",
    "                print(\"{} - {}\".format(num+1,work))\n",
    "    \n",
    "    def open_to_do_list(self):\n",
    "        \n",
    "        print(\"☆★ {}의 To Do List ☆★\")\n",
    "        \n",
    "        while(True):\n",
    "            date = input(\"원하시는 날짜를 입력해주세요 (입력예시: 2021-01-01): \")\n",
    "            if date[4] == '-' and date[-3] == '-':\n",
    "                self.date = date\n",
    "                \n",
    "                if date not in self.to_do.keys():\n",
    "                    self.to_do[date] = []\n",
    "                else:\n",
    "                    self.lst = self.to_do[date]\n",
    "                \n",
    "                break\n",
    "            else:\n",
    "                print(\"입력 형식이 잘못 되었습니다.\")\n",
    "        \n",
    "        print(\"=\"*62)\n",
    "        print(\"1) 할 일 등록하기\")\n",
    "        print(\"2) 할 일 삭제하기\")\n",
    "        print(\"3) 할 일 목록보기\")\n",
    "        print(\"4) 그만하기\")\n",
    "        print(\"=\"*62)\n",
    "        \n",
    "        while True:\n",
    "\n",
    "            option = int(input(\"무엇을 하시겠습니까? :\"))\n",
    "\n",
    "            if option == 1 :\n",
    "                self.write() # 할 일 쓰기\n",
    "            elif option == 2 :\n",
    "                self.erase() # 할 일 지우기\n",
    "            elif option == 3:\n",
    "                self.show_list() # 목록 보기\n",
    "            elif option == 4:\n",
    "                print(\"Bye Bye\")\n",
    "                break\n",
    "            else:\n",
    "                print(\"다시 골라주세요:(\")\n",
    "\n",
    "            print(\"=\"*62)\n",
    "        \n",
    "        self.to_do[self.date] = self.lst"
   ]
  },
  {
   "cell_type": "code",
   "execution_count": 23,
   "metadata": {},
   "outputs": [],
   "source": [
    "my_to_do = To_do('suyeon') "
   ]
  },
  {
   "cell_type": "code",
   "execution_count": 24,
   "metadata": {},
   "outputs": [
    {
     "name": "stdout",
     "output_type": "stream",
     "text": [
      "☆★ {}의 To Do List ☆★\n"
     ]
    },
    {
     "name": "stdin",
     "output_type": "stream",
     "text": [
      "원하시는 날짜를 입력해주세요 (입력예시: 2021-01-01):  2021-06-23\n"
     ]
    },
    {
     "name": "stdout",
     "output_type": "stream",
     "text": [
      "==============================================================\n",
      "1) 할 일 등록하기\n",
      "2) 할 일 삭제하기\n",
      "3) 할 일 목록보기\n",
      "4) 그만하기\n",
      "==============================================================\n"
     ]
    },
    {
     "name": "stdin",
     "output_type": "stream",
     "text": [
      "무엇을 하시겠습니까? : 1\n",
      "할 일을 적어주세요 :  청소하기\n"
     ]
    },
    {
     "name": "stdout",
     "output_type": "stream",
     "text": [
      "==============================================================\n"
     ]
    },
    {
     "name": "stdin",
     "output_type": "stream",
     "text": [
      "무엇을 하시겠습니까? : 1\n",
      "할 일을 적어주세요 :  공부하기\n"
     ]
    },
    {
     "name": "stdout",
     "output_type": "stream",
     "text": [
      "==============================================================\n"
     ]
    },
    {
     "name": "stdin",
     "output_type": "stream",
     "text": [
      "무엇을 하시겠습니까? : 1\n",
      "할 일을 적어주세요 :  복습하기\n"
     ]
    },
    {
     "name": "stdout",
     "output_type": "stream",
     "text": [
      "==============================================================\n"
     ]
    },
    {
     "name": "stdin",
     "output_type": "stream",
     "text": [
      "무엇을 하시겠습니까? : 3\n"
     ]
    },
    {
     "name": "stdout",
     "output_type": "stream",
     "text": [
      "------------------------------------------------------------\n",
      "날짜 : 2021-06-23\n",
      "1 - 청소하기\n",
      "2 - 공부하기\n",
      "3 - 복습하기\n",
      "==============================================================\n"
     ]
    },
    {
     "name": "stdin",
     "output_type": "stream",
     "text": [
      "무엇을 하시겠습니까? : 2\n",
      "몇 번째 할 일을 지우시겠습니까? : 2\n"
     ]
    },
    {
     "name": "stdout",
     "output_type": "stream",
     "text": [
      "==============================================================\n"
     ]
    },
    {
     "name": "stdin",
     "output_type": "stream",
     "text": [
      "무엇을 하시겠습니까? : 3\n"
     ]
    },
    {
     "name": "stdout",
     "output_type": "stream",
     "text": [
      "------------------------------------------------------------\n",
      "날짜 : 2021-06-23\n",
      "1 - 청소하기\n",
      "2 - 복습하기\n",
      "==============================================================\n"
     ]
    },
    {
     "name": "stdin",
     "output_type": "stream",
     "text": [
      "무엇을 하시겠습니까? : 1\n",
      "할 일을 적어주세요 :  놀기\n"
     ]
    },
    {
     "name": "stdout",
     "output_type": "stream",
     "text": [
      "==============================================================\n"
     ]
    },
    {
     "name": "stdin",
     "output_type": "stream",
     "text": [
      "무엇을 하시겠습니까? : 4\n"
     ]
    },
    {
     "name": "stdout",
     "output_type": "stream",
     "text": [
      "Bye Bye\n"
     ]
    }
   ],
   "source": [
    "my_to_do.open_to_do_list()"
   ]
  },
  {
   "cell_type": "code",
   "execution_count": 25,
   "metadata": {},
   "outputs": [
    {
     "name": "stdout",
     "output_type": "stream",
     "text": [
      "☆★ {}의 To Do List ☆★\n"
     ]
    },
    {
     "name": "stdin",
     "output_type": "stream",
     "text": [
      "원하시는 날짜를 입력해주세요 (입력예시: 2021-01-01):  2021-06-23\n"
     ]
    },
    {
     "name": "stdout",
     "output_type": "stream",
     "text": [
      "==============================================================\n",
      "1) 할 일 등록하기\n",
      "2) 할 일 삭제하기\n",
      "3) 할 일 목록보기\n",
      "4) 그만하기\n",
      "==============================================================\n"
     ]
    },
    {
     "name": "stdin",
     "output_type": "stream",
     "text": [
      "무엇을 하시겠습니까? : 3\n"
     ]
    },
    {
     "name": "stdout",
     "output_type": "stream",
     "text": [
      "------------------------------------------------------------\n",
      "날짜 : 2021-06-23\n",
      "1 - 청소하기\n",
      "2 - 복습하기\n",
      "3 - 놀기\n",
      "==============================================================\n"
     ]
    },
    {
     "name": "stdin",
     "output_type": "stream",
     "text": [
      "무엇을 하시겠습니까? : 1\n",
      "할 일을 적어주세요 :  성공해따~~~\n"
     ]
    },
    {
     "name": "stdout",
     "output_type": "stream",
     "text": [
      "==============================================================\n"
     ]
    },
    {
     "name": "stdin",
     "output_type": "stream",
     "text": [
      "무엇을 하시겠습니까? : 3\n"
     ]
    },
    {
     "name": "stdout",
     "output_type": "stream",
     "text": [
      "------------------------------------------------------------\n",
      "날짜 : 2021-06-23\n",
      "1 - 청소하기\n",
      "2 - 복습하기\n",
      "3 - 놀기\n",
      "4 - 성공해따~~~\n",
      "==============================================================\n"
     ]
    },
    {
     "name": "stdin",
     "output_type": "stream",
     "text": [
      "무엇을 하시겠습니까? : 4\n"
     ]
    },
    {
     "name": "stdout",
     "output_type": "stream",
     "text": [
      "Bye Bye\n"
     ]
    }
   ],
   "source": [
    "my_to_do.open_to_do_list()"
   ]
  },
  {
   "cell_type": "code",
   "execution_count": null,
   "metadata": {},
   "outputs": [],
   "source": []
  }
 ],
 "metadata": {
  "kernelspec": {
   "display_name": "Python 3",
   "language": "python",
   "name": "python3"
  },
  "language_info": {
   "codemirror_mode": {
    "name": "ipython",
    "version": 3
   },
   "file_extension": ".py",
   "mimetype": "text/x-python",
   "name": "python",
   "nbconvert_exporter": "python",
   "pygments_lexer": "ipython3",
   "version": "3.8.8"
  }
 },
 "nbformat": 4,
 "nbformat_minor": 4
}
